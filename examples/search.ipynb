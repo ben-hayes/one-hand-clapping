{
 "cells": [
  {
   "cell_type": "code",
   "execution_count": null,
   "metadata": {},
   "outputs": [],
   "source": [
    "# Perform Synthesizer Parameter Search"
   ]
  },
  {
   "cell_type": "code",
   "execution_count": null,
   "metadata": {},
   "outputs": [],
   "source": [
    "import IPython.display as ipd\n",
    "\n",
    "from ohc.search.search import EvolutionarySearch\n",
    "from ohc.search.search import FindMySound\n",
    "from ohc.vst import VSTHost\n",
    "from ohc.fitness.fitness import FitnessFunction\n",
    "from ohc.fitness.clap import CLAPSimilarity\n",
    "\n",
    "%load_ext autoreload\n",
    "%autoreload 2"
   ]
  },
  {
   "cell_type": "code",
   "execution_count": null,
   "metadata": {},
   "outputs": [],
   "source": [
    "PLUGIN_PATH = \"/Library/Audio/Plug-Ins/VST3/Dexed.vst3\"\n",
    "SAMPLE_RATE = 48000\n",
    "BLOCK_SIZE = 512"
   ]
  },
  {
   "cell_type": "code",
   "execution_count": null,
   "metadata": {},
   "outputs": [],
   "source": [
    "# Create a VST\n",
    "vst = VSTHost(PLUGIN_PATH, \"fixed\", SAMPLE_RATE, BLOCK_SIZE)\n",
    "\n",
    "# Select parameters to search over\n",
    "params = vst.list_params(filter_midi_cc=True)\n",
    "active_params = [p for p in params if p != \"Bypass\"]\n",
    "vst.set_active_params(active_params)"
   ]
  },
  {
   "cell_type": "code",
   "execution_count": null,
   "metadata": {},
   "outputs": [],
   "source": [
    "# Initialize the CLAP embedding\n",
    "clap = CLAPSimilarity(sample_rate=SAMPLE_RATE)"
   ]
  },
  {
   "cell_type": "code",
   "execution_count": null,
   "metadata": {},
   "outputs": [],
   "source": [
    "# Create a fitness function\n",
    "text_target = [\"toy piano\"]\n",
    "fitness = FitnessFunction(vst, clap, text_target=text_target, clap_batch_size=128)"
   ]
  },
  {
   "cell_type": "code",
   "execution_count": null,
   "metadata": {},
   "outputs": [],
   "source": [
    "problem = FindMySound(\n",
    "    \"max\",\n",
    "    num_params=len(active_params),\n",
    "    min_value=0.0,\n",
    "    max_value=1.0,\n",
    "    fitness_function=fitness,\n",
    ")"
   ]
  },
  {
   "cell_type": "code",
   "execution_count": null,
   "metadata": {},
   "outputs": [],
   "source": [
    "search = EvolutionarySearch(problem, population_size=512, max_generations=10, logger=\"custom\")"
   ]
  },
  {
   "cell_type": "code",
   "execution_count": null,
   "metadata": {},
   "outputs": [],
   "source": [
    "search.run()"
   ]
  },
  {
   "cell_type": "code",
   "execution_count": null,
   "metadata": {},
   "outputs": [],
   "source": [
    "best_discovered_solution = search._searcher.status[\"best\"]"
   ]
  },
  {
   "cell_type": "code",
   "execution_count": null,
   "metadata": {},
   "outputs": [],
   "source": [
    "audio, _ = vst.render_now(best_discovered_solution.values.unsqueeze(0), 48, 1.0, 1.0)[0]"
   ]
  },
  {
   "cell_type": "code",
   "execution_count": null,
   "metadata": {},
   "outputs": [],
   "source": [
    "ipd.Audio(audio, rate=SAMPLE_RATE)"
   ]
  },
  {
   "cell_type": "code",
   "execution_count": null,
   "metadata": {},
   "outputs": [],
   "source": []
  }
 ],
 "metadata": {
  "kernelspec": {
   "display_name": "oneclap",
   "language": "python",
   "name": "python3"
  },
  "language_info": {
   "codemirror_mode": {
    "name": "ipython",
    "version": 3
   },
   "file_extension": ".py",
   "mimetype": "text/x-python",
   "name": "python",
   "nbconvert_exporter": "python",
   "pygments_lexer": "ipython3",
   "version": "3.10.13"
  }
 },
 "nbformat": 4,
 "nbformat_minor": 2
}
