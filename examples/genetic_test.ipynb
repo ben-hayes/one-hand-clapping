{
 "cells": [
  {
   "cell_type": "code",
   "execution_count": 1,
   "metadata": {},
   "outputs": [
    {
     "name": "stderr",
     "output_type": "stream",
     "text": [
      "/Users/svanka/miniforge3/envs/ohc/lib/python3.10/site-packages/tqdm/auto.py:21: TqdmWarning: IProgress not found. Please update jupyter and ipywidgets. See https://ipywidgets.readthedocs.io/en/stable/user_install.html\n",
      "  from .autonotebook import tqdm as notebook_tqdm\n",
      "2024-02-25 14:23:28,133\tINFO util.py:154 -- Missing packages: ['ipywidgets']. Run `pip install -U ipywidgets`, then restart the notebook server for rich notebook output.\n"
     ]
    }
   ],
   "source": [
    "import evotorch\n",
    "from evotorch.logging import StdOutLogger\n",
    "from evotorch.algorithms import GeneticAlgorithm\n",
    "from evotorch.operators import TwoPointCrossOver, PolynomialMutation\n",
    "\n",
    "import IPython.display as ipd\n",
    "import torch\n",
    "\n",
    "from ohc.vst import VSTHost\n",
    "from ohc.fitness.fitness import FitnessFunction\n",
    "from ohc.fitness.clap import CLAPSimilarity\n",
    "\n",
    "%load_ext autoreload\n",
    "%autoreload 2"
   ]
  },
  {
   "cell_type": "code",
   "execution_count": 9,
   "metadata": {},
   "outputs": [],
   "source": [
    "PLUGIN_PATH = \"/Library/Audio/Plug-Ins/VST3/Dexed.vst3\"\n",
    "SAMPLE_RATE = 48000\n",
    "BLOCK_SIZE = 512"
   ]
  },
  {
   "cell_type": "code",
   "execution_count": 10,
   "metadata": {},
   "outputs": [
    {
     "name": "stderr",
     "output_type": "stream",
     "text": [
      "error: attempt to map invalid URI `/Library/Audio/Plug-Ins/VST3/Dexed.vst3'\n",
      "2024-02-25 14:56:40,365\tINFO worker.py:1724 -- Started a local Ray instance.\n"
     ]
    }
   ],
   "source": [
    "vst = VSTHost(PLUGIN_PATH, \"fixed\", SAMPLE_RATE, BLOCK_SIZE)"
   ]
  },
  {
   "cell_type": "code",
   "execution_count": 11,
   "metadata": {},
   "outputs": [],
   "source": [
    "params = vst.list_params(filter_midi_cc=True)\n",
    "active_params = [p for p in params if p != \"Bypass\"]\n",
    "vst.set_active_params(active_params)"
   ]
  },
  {
   "cell_type": "code",
   "execution_count": 12,
   "metadata": {},
   "outputs": [
    {
     "name": "stdout",
     "output_type": "stream",
     "text": [
      "Active parameters: ['Cutoff', 'Resonance', 'Output', 'MASTER TUNE ADJ', 'ALGORITHM', 'FEEDBACK', 'OSC KEY SYNC', 'LFO SPEED', 'LFO DELAY', 'LFO PM DEPTH', 'LFO AM DEPTH', 'LFO KEY SYNC', 'LFO WAVE', 'TRANSPOSE', 'P MODE SENS.', 'PITCH EG RATE 1', 'PITCH EG RATE 2', 'PITCH EG RATE 3', 'PITCH EG RATE 4', 'PITCH EG LEVEL 1', 'PITCH EG LEVEL 2', 'PITCH EG LEVEL 3', 'PITCH EG LEVEL 4', 'OP1 EG RATE 1', 'OP1 EG RATE 2', 'OP1 EG RATE 3', 'OP1 EG RATE 4', 'OP1 EG LEVEL 1', 'OP1 EG LEVEL 2', 'OP1 EG LEVEL 3', 'OP1 EG LEVEL 4', 'OP1 OUTPUT LEVEL', 'OP1 MODE', 'OP1 F COARSE', 'OP1 F FINE', 'OP1 OSC DETUNE', 'OP1 BREAK POINT', 'OP1 L SCALE DEPTH', 'OP1 R SCALE DEPTH', 'OP1 L KEY SCALE', 'OP1 R KEY SCALE', 'OP1 RATE SCALING', 'OP1 A MOD SENS.', 'OP1 KEY VELOCITY', 'OP1 SWITCH', 'OP2 EG RATE 1', 'OP2 EG RATE 2', 'OP2 EG RATE 3', 'OP2 EG RATE 4', 'OP2 EG LEVEL 1', 'OP2 EG LEVEL 2', 'OP2 EG LEVEL 3', 'OP2 EG LEVEL 4', 'OP2 OUTPUT LEVEL', 'OP2 MODE', 'OP2 F COARSE', 'OP2 F FINE', 'OP2 OSC DETUNE', 'OP2 BREAK POINT', 'OP2 L SCALE DEPTH', 'OP2 R SCALE DEPTH', 'OP2 L KEY SCALE', 'OP2 R KEY SCALE', 'OP2 RATE SCALING', 'OP2 A MOD SENS.', 'OP2 KEY VELOCITY', 'OP2 SWITCH', 'OP3 EG RATE 1', 'OP3 EG RATE 2', 'OP3 EG RATE 3', 'OP3 EG RATE 4', 'OP3 EG LEVEL 1', 'OP3 EG LEVEL 2', 'OP3 EG LEVEL 3', 'OP3 EG LEVEL 4', 'OP3 OUTPUT LEVEL', 'OP3 MODE', 'OP3 F COARSE', 'OP3 F FINE', 'OP3 OSC DETUNE', 'OP3 BREAK POINT', 'OP3 L SCALE DEPTH', 'OP3 R SCALE DEPTH', 'OP3 L KEY SCALE', 'OP3 R KEY SCALE', 'OP3 RATE SCALING', 'OP3 A MOD SENS.', 'OP3 KEY VELOCITY', 'OP3 SWITCH', 'OP4 EG RATE 1', 'OP4 EG RATE 2', 'OP4 EG RATE 3', 'OP4 EG RATE 4', 'OP4 EG LEVEL 1', 'OP4 EG LEVEL 2', 'OP4 EG LEVEL 3', 'OP4 EG LEVEL 4', 'OP4 OUTPUT LEVEL', 'OP4 MODE', 'OP4 F COARSE', 'OP4 F FINE', 'OP4 OSC DETUNE', 'OP4 BREAK POINT', 'OP4 L SCALE DEPTH', 'OP4 R SCALE DEPTH', 'OP4 L KEY SCALE', 'OP4 R KEY SCALE', 'OP4 RATE SCALING', 'OP4 A MOD SENS.', 'OP4 KEY VELOCITY', 'OP4 SWITCH', 'OP5 EG RATE 1', 'OP5 EG RATE 2', 'OP5 EG RATE 3', 'OP5 EG RATE 4', 'OP5 EG LEVEL 1', 'OP5 EG LEVEL 2', 'OP5 EG LEVEL 3', 'OP5 EG LEVEL 4', 'OP5 OUTPUT LEVEL', 'OP5 MODE', 'OP5 F COARSE', 'OP5 F FINE', 'OP5 OSC DETUNE', 'OP5 BREAK POINT', 'OP5 L SCALE DEPTH', 'OP5 R SCALE DEPTH', 'OP5 L KEY SCALE', 'OP5 R KEY SCALE', 'OP5 RATE SCALING', 'OP5 A MOD SENS.', 'OP5 KEY VELOCITY', 'OP5 SWITCH', 'OP6 EG RATE 1', 'OP6 EG RATE 2', 'OP6 EG RATE 3', 'OP6 EG RATE 4', 'OP6 EG LEVEL 1', 'OP6 EG LEVEL 2', 'OP6 EG LEVEL 3', 'OP6 EG LEVEL 4', 'OP6 OUTPUT LEVEL', 'OP6 MODE', 'OP6 F COARSE', 'OP6 F FINE', 'OP6 OSC DETUNE', 'OP6 BREAK POINT', 'OP6 L SCALE DEPTH', 'OP6 R SCALE DEPTH', 'OP6 L KEY SCALE', 'OP6 R KEY SCALE', 'OP6 RATE SCALING', 'OP6 A MOD SENS.', 'OP6 KEY VELOCITY', 'OP6 SWITCH', 'Program']\n"
     ]
    }
   ],
   "source": [
    "print(\"Active parameters:\", active_params)"
   ]
  },
  {
   "cell_type": "code",
   "execution_count": 13,
   "metadata": {},
   "outputs": [
    {
     "name": "stdout",
     "output_type": "stream",
     "text": [
      "Initializing CLAP model: laion/larger_clap_general\n"
     ]
    },
    {
     "name": "stderr",
     "output_type": "stream",
     "text": [
      "config.json: 100%|██████████| 643/643 [00:00<00:00, 1.59MB/s]\n",
      "pytorch_model.bin: 100%|██████████| 776M/776M [00:50<00:00, 15.2MB/s] \n"
     ]
    },
    {
     "name": "stdout",
     "output_type": "stream",
     "text": [
      "Initializing CLAP tokenizer: laion/larger_clap_general\n"
     ]
    },
    {
     "name": "stderr",
     "output_type": "stream",
     "text": [
      "tokenizer_config.json: 100%|██████████| 1.36k/1.36k [00:00<00:00, 12.5MB/s]\n",
      "vocab.json: 100%|██████████| 798k/798k [00:00<00:00, 2.61MB/s]\n",
      "merges.txt: 100%|██████████| 456k/456k [00:00<00:00, 2.03MB/s]\n",
      "tokenizer.json: 100%|██████████| 2.11M/2.11M [00:00<00:00, 8.95MB/s]\n",
      "special_tokens_map.json: 100%|██████████| 280/280 [00:00<00:00, 2.72MB/s]\n"
     ]
    },
    {
     "name": "stdout",
     "output_type": "stream",
     "text": [
      "Initializing CLAP feature extractor: laion/larger_clap_general\n"
     ]
    },
    {
     "name": "stderr",
     "output_type": "stream",
     "text": [
      "preprocessor_config.json: 100%|██████████| 541/541 [00:00<00:00, 3.28MB/s]\n"
     ]
    }
   ],
   "source": [
    "clap = CLAPSimilarity(sample_rate=SAMPLE_RATE)"
   ]
  },
  {
   "cell_type": "code",
   "execution_count": 14,
   "metadata": {},
   "outputs": [],
   "source": [
    "text_target = [\"dog bark\"]\n",
    "fitness = FitnessFunction(vst, clap, text_target=text_target)"
   ]
  },
  {
   "cell_type": "code",
   "execution_count": 15,
   "metadata": {},
   "outputs": [
    {
     "name": "stdout",
     "output_type": "stream",
     "text": [
      "[2024-02-25 14:57:56] INFO     <80559> evotorch.core: Instance of `Problem` (id:6096846960) -- The `dtype` for the problem's decision variables is set as torch.float32\n",
      "[2024-02-25 14:57:56] INFO     <80559> evotorch.core: Instance of `Problem` (id:6096846960) -- `eval_dtype` (the dtype of the fitnesses and evaluation data) is set as torch.float32\n",
      "[2024-02-25 14:57:56] INFO     <80559> evotorch.core: Instance of `Problem` (id:6096846960) -- The `device` of the problem is set as cpu\n",
      "[2024-02-25 14:57:56] INFO     <80559> evotorch.core: Instance of `Problem` (id:6096846960) -- The number of actors that will be allocated for parallelized evaluation is 0\n"
     ]
    }
   ],
   "source": [
    "problem = evotorch.Problem(\n",
    "    [\"max\"] * len(text_target),\n",
    "    fitness.compute,\n",
    "    solution_length=len(active_params),\n",
    "    initial_bounds=(0, 1),\n",
    "    bounds=(0, 1),\n",
    ")"
   ]
  },
  {
   "cell_type": "code",
   "execution_count": null,
   "metadata": {},
   "outputs": [],
   "source": [
    "# x = problem.generate_batch(16)"
   ]
  },
  {
   "cell_type": "code",
   "execution_count": null,
   "metadata": {},
   "outputs": [],
   "source": [
    "# fitness.compute(x.values)"
   ]
  },
  {
   "cell_type": "code",
   "execution_count": 16,
   "metadata": {},
   "outputs": [],
   "source": [
    "ga = GeneticAlgorithm(\n",
    "    problem,\n",
    "    popsize=25,\n",
    "    operators=[\n",
    "        TwoPointCrossOver(problem, tournament_size=4),\n",
    "        PolynomialMutation(problem),\n",
    "    ],\n",
    "    re_evaluate=False,\n",
    ")"
   ]
  },
  {
   "cell_type": "code",
   "execution_count": 17,
   "metadata": {},
   "outputs": [
    {
     "ename": "AttributeError",
     "evalue": "'builtin_function_or_method' object has no attribute 'ndim'",
     "output_type": "error",
     "traceback": [
      "\u001b[0;31m---------------------------------------------------------------------------\u001b[0m",
      "\u001b[0;31mAttributeError\u001b[0m                            Traceback (most recent call last)",
      "Cell \u001b[0;32mIn[17], line 2\u001b[0m\n\u001b[1;32m      1\u001b[0m _ \u001b[38;5;241m=\u001b[39m StdOutLogger(ga)  \u001b[38;5;66;03m# Report the evolution's progress to standard output\u001b[39;00m\n\u001b[0;32m----> 2\u001b[0m \u001b[43mga\u001b[49m\u001b[38;5;241;43m.\u001b[39;49m\u001b[43mrun\u001b[49m\u001b[43m(\u001b[49m\u001b[38;5;241;43m25\u001b[39;49m\u001b[43m)\u001b[49m  \u001b[38;5;66;03m# Run the algorithm for 100 generations\u001b[39;00m\n\u001b[1;32m      3\u001b[0m \u001b[38;5;28mprint\u001b[39m(\u001b[38;5;124m\"\u001b[39m\u001b[38;5;124mSolution with best fitness ever:\u001b[39m\u001b[38;5;124m\"\u001b[39m, ga\u001b[38;5;241m.\u001b[39mstatus[\u001b[38;5;124m\"\u001b[39m\u001b[38;5;124mbest\u001b[39m\u001b[38;5;124m\"\u001b[39m])\n",
      "File \u001b[0;32m~/miniforge3/envs/ohc/lib/python3.10/site-packages/evotorch/algorithms/searchalgorithm.py:425\u001b[0m, in \u001b[0;36mSearchAlgorithm.run\u001b[0;34m(self, num_generations, reset_first_step_datetime)\u001b[0m\n\u001b[1;32m    422\u001b[0m     \u001b[38;5;28mself\u001b[39m\u001b[38;5;241m.\u001b[39mreset_first_step_datetime()\n\u001b[1;32m    424\u001b[0m \u001b[38;5;28;01mfor\u001b[39;00m _ \u001b[38;5;129;01min\u001b[39;00m \u001b[38;5;28mrange\u001b[39m(\u001b[38;5;28mint\u001b[39m(num_generations)):\n\u001b[0;32m--> 425\u001b[0m     \u001b[38;5;28;43mself\u001b[39;49m\u001b[38;5;241;43m.\u001b[39;49m\u001b[43mstep\u001b[49m\u001b[43m(\u001b[49m\u001b[43m)\u001b[49m\n\u001b[1;32m    427\u001b[0m \u001b[38;5;28;01mif\u001b[39;00m \u001b[38;5;28mlen\u001b[39m(\u001b[38;5;28mself\u001b[39m\u001b[38;5;241m.\u001b[39m_end_of_run_hook) \u001b[38;5;241m>\u001b[39m\u001b[38;5;241m=\u001b[39m \u001b[38;5;241m1\u001b[39m:\n\u001b[1;32m    428\u001b[0m     \u001b[38;5;28mself\u001b[39m\u001b[38;5;241m.\u001b[39m_end_of_run_hook(\u001b[38;5;28mdict\u001b[39m(\u001b[38;5;28mself\u001b[39m\u001b[38;5;241m.\u001b[39mstatus))\n",
      "File \u001b[0;32m~/miniforge3/envs/ohc/lib/python3.10/site-packages/evotorch/algorithms/searchalgorithm.py:390\u001b[0m, in \u001b[0;36mSearchAlgorithm.step\u001b[0;34m(self)\u001b[0m\n\u001b[1;32m    387\u001b[0m \u001b[38;5;28;01mif\u001b[39;00m \u001b[38;5;28mself\u001b[39m\u001b[38;5;241m.\u001b[39m_first_step_datetime \u001b[38;5;129;01mis\u001b[39;00m \u001b[38;5;28;01mNone\u001b[39;00m:\n\u001b[1;32m    388\u001b[0m     \u001b[38;5;28mself\u001b[39m\u001b[38;5;241m.\u001b[39m_first_step_datetime \u001b[38;5;241m=\u001b[39m datetime\u001b[38;5;241m.\u001b[39mnow()\n\u001b[0;32m--> 390\u001b[0m \u001b[38;5;28;43mself\u001b[39;49m\u001b[38;5;241;43m.\u001b[39;49m\u001b[43m_step\u001b[49m\u001b[43m(\u001b[49m\u001b[43m)\u001b[49m\n\u001b[1;32m    391\u001b[0m \u001b[38;5;28mself\u001b[39m\u001b[38;5;241m.\u001b[39m_steps_count \u001b[38;5;241m+\u001b[39m\u001b[38;5;241m=\u001b[39m \u001b[38;5;241m1\u001b[39m\n\u001b[1;32m    392\u001b[0m \u001b[38;5;28mself\u001b[39m\u001b[38;5;241m.\u001b[39mupdate_status({\u001b[38;5;124m\"\u001b[39m\u001b[38;5;124miter\u001b[39m\u001b[38;5;124m\"\u001b[39m: \u001b[38;5;28mself\u001b[39m\u001b[38;5;241m.\u001b[39m_steps_count})\n",
      "File \u001b[0;32m~/miniforge3/envs/ohc/lib/python3.10/site-packages/evotorch/algorithms/ga.py:646\u001b[0m, in \u001b[0;36mGeneticAlgorithm._step\u001b[0;34m(self)\u001b[0m\n\u001b[1;32m    640\u001b[0m popsize \u001b[38;5;241m=\u001b[39m \u001b[38;5;28mself\u001b[39m\u001b[38;5;241m.\u001b[39m_popsize\n\u001b[1;32m    642\u001b[0m \u001b[38;5;28;01mif\u001b[39;00m \u001b[38;5;28mself\u001b[39m\u001b[38;5;241m.\u001b[39m_elitist:\n\u001b[1;32m    643\u001b[0m     \u001b[38;5;66;03m# This is where we handle the elitist mode.\u001b[39;00m\n\u001b[1;32m    644\u001b[0m \n\u001b[1;32m    645\u001b[0m     \u001b[38;5;66;03m# Produce and get an extended population in a single SolutionBatch\u001b[39;00m\n\u001b[0;32m--> 646\u001b[0m     extended_population \u001b[38;5;241m=\u001b[39m \u001b[38;5;28;43mself\u001b[39;49m\u001b[38;5;241;43m.\u001b[39;49m\u001b[43m_make_extended_population\u001b[49m\u001b[43m(\u001b[49m\u001b[43msplit\u001b[49m\u001b[38;5;241;43m=\u001b[39;49m\u001b[38;5;28;43;01mFalse\u001b[39;49;00m\u001b[43m)\u001b[49m\n\u001b[1;32m    648\u001b[0m     \u001b[38;5;66;03m# From the extended population, take the best n solutions, n being the popsize.\u001b[39;00m\n\u001b[1;32m    649\u001b[0m     \u001b[38;5;28mself\u001b[39m\u001b[38;5;241m.\u001b[39m_population \u001b[38;5;241m=\u001b[39m extended_population\u001b[38;5;241m.\u001b[39mtake_best(popsize)\n",
      "File \u001b[0;32m~/miniforge3/envs/ohc/lib/python3.10/site-packages/evotorch/algorithms/ga.py:217\u001b[0m, in \u001b[0;36mExtendedPopulationMixin._make_extended_population\u001b[0;34m(self, split)\u001b[0m\n\u001b[1;32m    214\u001b[0m     \u001b[38;5;28mself\u001b[39m\u001b[38;5;241m.\u001b[39m_first_iter \u001b[38;5;241m=\u001b[39m \u001b[38;5;28;01mFalse\u001b[39;00m\n\u001b[1;32m    215\u001b[0m     \u001b[38;5;66;03m# We not evaluate the parent population (because the parents are expected to be non-evaluated at the\u001b[39;00m\n\u001b[1;32m    216\u001b[0m     \u001b[38;5;66;03m# beginning).\u001b[39;00m\n\u001b[0;32m--> 217\u001b[0m     \u001b[43mproblem\u001b[49m\u001b[38;5;241;43m.\u001b[39;49m\u001b[43mevaluate\u001b[49m\u001b[43m(\u001b[49m\u001b[43mpopulation\u001b[49m\u001b[43m)\u001b[49m\n\u001b[1;32m    219\u001b[0m \u001b[38;5;66;03m# Here, we assume that the parents are already evaluated. We apply our operators on the parents.\u001b[39;00m\n\u001b[1;32m    220\u001b[0m children \u001b[38;5;241m=\u001b[39m _use_operators(population, \u001b[38;5;28mself\u001b[39m\u001b[38;5;241m.\u001b[39m_operators)\n",
      "File \u001b[0;32m~/miniforge3/envs/ohc/lib/python3.10/site-packages/evotorch/core.py:2548\u001b[0m, in \u001b[0;36mProblem.evaluate\u001b[0;34m(self, x)\u001b[0m\n\u001b[1;32m   2544\u001b[0m must_sync_after \u001b[38;5;241m=\u001b[39m \u001b[38;5;28mself\u001b[39m\u001b[38;5;241m.\u001b[39m_sync_before()\n\u001b[1;32m   2546\u001b[0m \u001b[38;5;28mself\u001b[39m\u001b[38;5;241m.\u001b[39m_start_preparations()\n\u001b[0;32m-> 2548\u001b[0m \u001b[38;5;28;43mself\u001b[39;49m\u001b[38;5;241;43m.\u001b[39;49m\u001b[43m_evaluate_all\u001b[49m\u001b[43m(\u001b[49m\u001b[43mbatch\u001b[49m\u001b[43m)\u001b[49m\n\u001b[1;32m   2550\u001b[0m \u001b[38;5;28;01mif\u001b[39;00m must_sync_after:\n\u001b[1;32m   2551\u001b[0m     \u001b[38;5;28mself\u001b[39m\u001b[38;5;241m.\u001b[39m_sync_after()\n",
      "File \u001b[0;32m~/miniforge3/envs/ohc/lib/python3.10/site-packages/evotorch/core.py:2566\u001b[0m, in \u001b[0;36mProblem._evaluate_all\u001b[0;34m(self, batch)\u001b[0m\n\u001b[1;32m   2564\u001b[0m fitness_device \u001b[38;5;241m=\u001b[39m \u001b[38;5;28mself\u001b[39m\u001b[38;5;241m.\u001b[39m_device_of_fitness_function()\n\u001b[1;32m   2565\u001b[0m \u001b[38;5;28;01mif\u001b[39;00m fitness_device \u001b[38;5;129;01mis\u001b[39;00m \u001b[38;5;28;01mNone\u001b[39;00m:\n\u001b[0;32m-> 2566\u001b[0m     \u001b[38;5;28;43mself\u001b[39;49m\u001b[38;5;241;43m.\u001b[39;49m\u001b[43m_evaluate_batch\u001b[49m\u001b[43m(\u001b[49m\u001b[43mbatch\u001b[49m\u001b[43m)\u001b[49m\n\u001b[1;32m   2567\u001b[0m \u001b[38;5;28;01melse\u001b[39;00m:\n\u001b[1;32m   2568\u001b[0m     original_device \u001b[38;5;241m=\u001b[39m batch\u001b[38;5;241m.\u001b[39mdevice\n",
      "File \u001b[0;32m~/miniforge3/envs/ohc/lib/python3.10/site-packages/evotorch/core.py:2593\u001b[0m, in \u001b[0;36mProblem._evaluate_batch\u001b[0;34m(self, batch)\u001b[0m\n\u001b[1;32m   2591\u001b[0m \u001b[38;5;28;01mdef\u001b[39;00m \u001b[38;5;21m_evaluate_batch\u001b[39m(\u001b[38;5;28mself\u001b[39m, batch: \u001b[38;5;124m\"\u001b[39m\u001b[38;5;124mSolutionBatch\u001b[39m\u001b[38;5;124m\"\u001b[39m):\n\u001b[1;32m   2592\u001b[0m     \u001b[38;5;28;01mif\u001b[39;00m \u001b[38;5;28mself\u001b[39m\u001b[38;5;241m.\u001b[39m_vectorized \u001b[38;5;129;01mand\u001b[39;00m (\u001b[38;5;28mself\u001b[39m\u001b[38;5;241m.\u001b[39m_objective_func \u001b[38;5;129;01mis\u001b[39;00m \u001b[38;5;129;01mnot\u001b[39;00m \u001b[38;5;28;01mNone\u001b[39;00m):\n\u001b[0;32m-> 2593\u001b[0m         result \u001b[38;5;241m=\u001b[39m \u001b[38;5;28;43mself\u001b[39;49m\u001b[38;5;241;43m.\u001b[39;49m\u001b[43m_objective_func\u001b[49m\u001b[43m(\u001b[49m\u001b[43mbatch\u001b[49m\u001b[38;5;241;43m.\u001b[39;49m\u001b[43mvalues\u001b[49m\u001b[43m)\u001b[49m\n\u001b[1;32m   2594\u001b[0m         \u001b[38;5;28;01mif\u001b[39;00m \u001b[38;5;28misinstance\u001b[39m(result, \u001b[38;5;28mtuple\u001b[39m):\n\u001b[1;32m   2595\u001b[0m             batch\u001b[38;5;241m.\u001b[39mset_evals(\u001b[38;5;241m*\u001b[39mresult)\n",
      "File \u001b[0;32m~/Codes/one-hand-clapping/ohc/fitness/fitness.py:136\u001b[0m, in \u001b[0;36mFitnessFunction.compute\u001b[0;34m(self, batch)\u001b[0m\n\u001b[1;32m    133\u001b[0m \u001b[38;5;129m@vectorized\u001b[39m\n\u001b[1;32m    134\u001b[0m \u001b[38;5;28;01mdef\u001b[39;00m \u001b[38;5;21mcompute\u001b[39m(\u001b[38;5;28mself\u001b[39m, batch: evotorch\u001b[38;5;241m.\u001b[39mSolutionBatch) \u001b[38;5;241m-\u001b[39m\u001b[38;5;241m>\u001b[39m torch\u001b[38;5;241m.\u001b[39mTensor:\n\u001b[1;32m    135\u001b[0m     batch \u001b[38;5;241m=\u001b[39m batch\u001b[38;5;241m.\u001b[39mvalues\n\u001b[0;32m--> 136\u001b[0m     \u001b[38;5;28;01mif\u001b[39;00m \u001b[43mbatch\u001b[49m\u001b[38;5;241;43m.\u001b[39;49m\u001b[43mndim\u001b[49m \u001b[38;5;241m==\u001b[39m \u001b[38;5;241m1\u001b[39m:\n\u001b[1;32m    137\u001b[0m         batch \u001b[38;5;241m=\u001b[39m batch\u001b[38;5;241m.\u001b[39munsqueeze(\u001b[38;5;241m0\u001b[39m)\n\u001b[1;32m    138\u001b[0m     \u001b[38;5;28;01melif\u001b[39;00m batch\u001b[38;5;241m.\u001b[39mndim \u001b[38;5;241m!=\u001b[39m \u001b[38;5;241m2\u001b[39m:\n",
      "\u001b[0;31mAttributeError\u001b[0m: 'builtin_function_or_method' object has no attribute 'ndim'"
     ]
    }
   ],
   "source": [
    "_ = StdOutLogger(ga)  # Report the evolution's progress to standard output\n",
    "ga.run(25)  # Run the algorithm for 100 generations\n",
    "print(\"Solution with best fitness ever:\", ga.status[\"best\"])"
   ]
  },
  {
   "cell_type": "code",
   "execution_count": null,
   "metadata": {},
   "outputs": [],
   "source": [
    "ga.status[\"best\"][0].shape"
   ]
  },
  {
   "cell_type": "code",
   "execution_count": null,
   "metadata": {},
   "outputs": [],
   "source": [
    "best_discovered_solution = ga.status['best']"
   ]
  },
  {
   "cell_type": "code",
   "execution_count": null,
   "metadata": {},
   "outputs": [],
   "source": [
    "audio, _ = vst.render_now(best_discovered_solution.values.unsqueeze(0), 48, 1.0, 1.0)[0]"
   ]
  },
  {
   "cell_type": "code",
   "execution_count": null,
   "metadata": {},
   "outputs": [],
   "source": [
    "ipd.Audio(audio, rate=SAMPLE_RATE)"
   ]
  },
  {
   "cell_type": "code",
   "execution_count": null,
   "metadata": {},
   "outputs": [],
   "source": []
  }
 ],
 "metadata": {
  "kernelspec": {
   "display_name": "oneclap",
   "language": "python",
   "name": "python3"
  },
  "language_info": {
   "codemirror_mode": {
    "name": "ipython",
    "version": 3
   },
   "file_extension": ".py",
   "mimetype": "text/x-python",
   "name": "python",
   "nbconvert_exporter": "python",
   "pygments_lexer": "ipython3",
   "version": "3.10.13"
  }
 },
 "nbformat": 4,
 "nbformat_minor": 2
}
