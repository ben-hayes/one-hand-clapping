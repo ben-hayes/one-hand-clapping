{
 "cells": [
  {
   "cell_type": "code",
   "execution_count": null,
   "metadata": {},
   "outputs": [],
   "source": [
    "import evotorch\n",
    "from evotorch.logging import StdOutLogger\n",
    "from evotorch.algorithms import GeneticAlgorithm\n",
    "from evotorch.operators import TwoPointCrossOver, PolynomialMutation\n",
    "\n",
    "import IPython.display as ipd\n",
    "import torch\n",
    "\n",
    "from ohc.vst import VSTHost\n",
    "from ohc.fitness.fitness import FitnessFunction\n",
    "from ohc.fitness.clap import CLAPSimilarity\n",
    "\n",
    "%load_ext autoreload\n",
    "%autoreload 2"
   ]
  },
  {
   "cell_type": "code",
   "execution_count": null,
   "metadata": {},
   "outputs": [],
   "source": [
    "PLUGIN_PATH = \"/home/jshier/development/one-hand-clapping/dexed-0.9.6-lnx/Dexed.vst3\"\n",
    "SAMPLE_RATE = 48000\n",
    "BLOCK_SIZE = 512\n",
    "device = torch.device(\"cuda\" if torch.cuda.is_available() else \"cpu\")"
   ]
  },
  {
   "cell_type": "code",
   "execution_count": null,
   "metadata": {},
   "outputs": [],
   "source": [
    "vst = VSTHost(PLUGIN_PATH, \"fixed\", SAMPLE_RATE, BLOCK_SIZE)"
   ]
  },
  {
   "cell_type": "code",
   "execution_count": null,
   "metadata": {},
   "outputs": [],
   "source": [
    "params = vst.list_params(filter_midi_cc=True)\n",
    "active_params = [p for p in params if p != \"Bypass\"]\n",
    "vst.set_active_params(active_params)"
   ]
  },
  {
   "cell_type": "code",
   "execution_count": null,
   "metadata": {},
   "outputs": [],
   "source": [
    "clap = CLAPSimilarity(sample_rate=SAMPLE_RATE)"
   ]
  },
  {
   "cell_type": "code",
   "execution_count": null,
   "metadata": {},
   "outputs": [],
   "source": [
    "text_target = [\"dog bark\"]\n",
    "fitness = FitnessFunction(vst, clap, text_target=text_target)"
   ]
  },
  {
   "cell_type": "code",
   "execution_count": null,
   "metadata": {},
   "outputs": [],
   "source": [
    "problem = evotorch.Problem(\n",
    "    [\"max\"] * len(text_target),\n",
    "    fitness.compute,\n",
    "    solution_length=len(active_params),\n",
    "    initial_bounds=(0, 1),\n",
    "    bounds=(0, 1),\n",
    ")"
   ]
  },
  {
   "cell_type": "code",
   "execution_count": null,
   "metadata": {},
   "outputs": [],
   "source": [
    "ga = GeneticAlgorithm(\n",
    "    problem,\n",
    "    popsize=100,\n",
    "    operators=[\n",
    "        TwoPointCrossOver(problem, tournament_size=4),\n",
    "        PolynomialMutation(problem),\n",
    "    ],\n",
    "    re_evaluate=False,\n",
    ")"
   ]
  },
  {
   "cell_type": "code",
   "execution_count": null,
   "metadata": {},
   "outputs": [],
   "source": [
    "_ = StdOutLogger(ga)  # Report the evolution's progress to standard output\n",
    "ga.run(1000)  # Run the algorithm for 100 generations\n",
    "print(\"Solution with best fitness ever:\", ga.status[\"best\"])"
   ]
  },
  {
   "cell_type": "code",
   "execution_count": null,
   "metadata": {},
   "outputs": [],
   "source": [
    "ga.status[\"best\"].shape"
   ]
  },
  {
   "cell_type": "code",
   "execution_count": null,
   "metadata": {},
   "outputs": [],
   "source": [
    "best_discovered_solution = ga.status['best']"
   ]
  },
  {
   "cell_type": "code",
   "execution_count": null,
   "metadata": {},
   "outputs": [],
   "source": [
    "audio, _ = vst.render_now(best_discovered_solution.values.unsqueeze(0), 100, 1.0, 1.0)[0]"
   ]
  },
  {
   "cell_type": "code",
   "execution_count": null,
   "metadata": {},
   "outputs": [],
   "source": [
    "ipd.Audio(audio, rate=SAMPLE_RATE)"
   ]
  },
  {
   "cell_type": "code",
   "execution_count": null,
   "metadata": {},
   "outputs": [],
   "source": []
  }
 ],
 "metadata": {
  "kernelspec": {
   "display_name": "oneclap",
   "language": "python",
   "name": "python3"
  },
  "language_info": {
   "codemirror_mode": {
    "name": "ipython",
    "version": 3
   },
   "file_extension": ".py",
   "mimetype": "text/x-python",
   "name": "python",
   "nbconvert_exporter": "python",
   "pygments_lexer": "ipython3",
   "version": "3.10.13"
  }
 },
 "nbformat": 4,
 "nbformat_minor": 2
}
